{
 "cells": [
  {
   "cell_type": "code",
   "execution_count": 2,
   "metadata": {},
   "outputs": [
    {
     "name": "stdout",
     "output_type": "stream",
     "text": [
      "Requirement already satisfied: pypdf in c:\\users\\night\\anaconda3\\lib\\site-packages (3.16.0)Note: you may need to restart the kernel to use updated packages.\n",
      "\n",
      "Requirement already satisfied: typing_extensions>=3.7.4.3 in c:\\users\\night\\anaconda3\\lib\\site-packages (from pypdf) (4.3.0)\n"
     ]
    }
   ],
   "source": [
    "pip install pypdf"
   ]
  },
  {
   "cell_type": "code",
   "execution_count": 4,
   "metadata": {},
   "outputs": [],
   "source": [
    "import pypdf\n",
    "pdf_in = open('stories.pdf', 'rb')\n",
    "pdf_reader = pypdf.PdfReader(pdf_in)\n",
    "b = (- len(pdf_reader.pages)) % 4\n",
    "mid = (len(pdf_reader.pages)-b) // 2\n",
    "first_half_pdf  = reversed(pdf_reader.pages[:(mid+b)]) \n",
    "second_half_pdf = pdf_reader.pages[(mid+b):]\n",
    "i = 1\n",
    "pdf_writer = pypdf.PdfWriter()\n",
    "# Reverse the first_half_pdf by iterating in reverse order and adding to pdf_writer\n",
    "for pagea,pageb in zip(first_half_pdf,second_half_pdf):\n",
    "    if i%2:\n",
    "        pdf_writer.add_page(pagea)\n",
    "        pdf_writer.add_page(pageb)\n",
    "    else: \n",
    "        pdf_writer.add_page(pageb)\n",
    "        pdf_writer.add_page(pagea)\n",
    "    i += 1\n",
    "i = 0\n",
    "for c in range(b):\n",
    "    if i%2:\n",
    "        pdf_writer.add_page(pdf_reader.pages[b-c-1])\n",
    "        pdf_writer.add_blank_page()\n",
    "    else:\n",
    "        pdf_writer.add_blank_page()\n",
    "        pdf_writer.add_page(pdf_reader.pages[b-c-1])\n",
    "    i += 1\n",
    "pdf_out = open('stories (1).pdf', 'wb')\n",
    "pdf_writer.write(pdf_out)\n",
    "pdf_out.close()\n",
    "pdf_in.close()"
   ]
  }
 ],
 "metadata": {
  "kernelspec": {
   "display_name": "base",
   "language": "python",
   "name": "python3"
  },
  "language_info": {
   "codemirror_mode": {
    "name": "ipython",
    "version": 3
   },
   "file_extension": ".py",
   "mimetype": "text/x-python",
   "name": "python",
   "nbconvert_exporter": "python",
   "pygments_lexer": "ipython3",
   "version": "3.9.13"
  },
  "orig_nbformat": 4
 },
 "nbformat": 4,
 "nbformat_minor": 2
}
